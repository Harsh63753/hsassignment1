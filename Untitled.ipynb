{
 "cells": [
  {
   "cell_type": "code",
   "execution_count": 1,
   "id": "c91a1d8e-35a6-4834-ba93-052dfce4a1f6",
   "metadata": {},
   "outputs": [],
   "source": [
    "#Python Type Conversion assignment"
   ]
  },
  {
   "cell_type": "code",
   "execution_count": 2,
   "id": "a4504145-2351-4886-b9e4-fdaff753830d",
   "metadata": {},
   "outputs": [],
   "source": [
    "# 1.An integer can be converted into floating_point number by using float().\n",
    "#    for example;"
   ]
  },
  {
   "cell_type": "code",
   "execution_count": 3,
   "id": "ad998fa1-11e1-4f40-9dc1-695e49465eae",
   "metadata": {},
   "outputs": [],
   "source": [
    "n = 5"
   ]
  },
  {
   "cell_type": "code",
   "execution_count": 4,
   "id": "223eb5c0-58ea-4830-84ee-d9305f97cf05",
   "metadata": {},
   "outputs": [
    {
     "data": {
      "text/plain": [
       "int"
      ]
     },
     "execution_count": 4,
     "metadata": {},
     "output_type": "execute_result"
    }
   ],
   "source": [
    "type(n)"
   ]
  },
  {
   "cell_type": "code",
   "execution_count": 7,
   "id": "5de38411-d880-440b-8648-7ee065a259f1",
   "metadata": {},
   "outputs": [
    {
     "data": {
      "text/plain": [
       "5.0"
      ]
     },
     "execution_count": 7,
     "metadata": {},
     "output_type": "execute_result"
    }
   ],
   "source": [
    "float(n)"
   ]
  },
  {
   "cell_type": "code",
   "execution_count": 8,
   "id": "0a31883a-2a6c-4aa1-96da-ae63aab4a976",
   "metadata": {},
   "outputs": [],
   "source": [
    "#2 . A float can be converted into integer by using int() function.\n",
    "#    for example;"
   ]
  },
  {
   "cell_type": "code",
   "execution_count": 9,
   "id": "78557c55-a536-47f3-a489-f3ddbafb0a1e",
   "metadata": {},
   "outputs": [],
   "source": [
    "j = 5.87"
   ]
  },
  {
   "cell_type": "code",
   "execution_count": 10,
   "id": "da0f3391-6144-4b1c-abf9-0569d3ec6d4c",
   "metadata": {},
   "outputs": [
    {
     "data": {
      "text/plain": [
       "float"
      ]
     },
     "execution_count": 10,
     "metadata": {},
     "output_type": "execute_result"
    }
   ],
   "source": [
    "type(j)"
   ]
  },
  {
   "cell_type": "code",
   "execution_count": 18,
   "id": "bec5e50a-bda7-4963-8e5f-9866adfec2da",
   "metadata": {},
   "outputs": [
    {
     "data": {
      "text/plain": [
       "5"
      ]
     },
     "execution_count": 18,
     "metadata": {},
     "output_type": "execute_result"
    }
   ],
   "source": [
    "int(j)"
   ]
  },
  {
   "cell_type": "code",
   "execution_count": 12,
   "id": "55bb2398-2e49-4ea8-8aea-d40d1b53e9ef",
   "metadata": {},
   "outputs": [],
   "source": [
    "# 3. An integer can be converted into string by using str() function.\n",
    "#   for example;"
   ]
  },
  {
   "cell_type": "code",
   "execution_count": 19,
   "id": "17aeefcc-7145-4d92-8fe7-68b56099373e",
   "metadata": {},
   "outputs": [],
   "source": [
    "k = 56"
   ]
  },
  {
   "cell_type": "code",
   "execution_count": 20,
   "id": "05d000d0-01fa-49f8-a074-b414789d645d",
   "metadata": {},
   "outputs": [
    {
     "data": {
      "text/plain": [
       "int"
      ]
     },
     "execution_count": 20,
     "metadata": {},
     "output_type": "execute_result"
    }
   ],
   "source": [
    "type(k)"
   ]
  },
  {
   "cell_type": "code",
   "execution_count": 21,
   "id": "50b6b1dc-5f47-4806-b975-c1d4fd29bced",
   "metadata": {},
   "outputs": [],
   "source": [
    "k = str(56)"
   ]
  },
  {
   "cell_type": "code",
   "execution_count": 22,
   "id": "21c5abe6-1d5a-46c4-b031-11cb6361f714",
   "metadata": {},
   "outputs": [
    {
     "data": {
      "text/plain": [
       "str"
      ]
     },
     "execution_count": 22,
     "metadata": {},
     "output_type": "execute_result"
    }
   ],
   "source": [
    "type(k)"
   ]
  },
  {
   "cell_type": "code",
   "execution_count": 23,
   "id": "2f763a3f-f76b-4a85-990e-750eda579fd7",
   "metadata": {},
   "outputs": [],
   "source": [
    "# 4.conversion of a list into tupple"
   ]
  },
  {
   "cell_type": "code",
   "execution_count": 36,
   "id": "d2605fba-8397-4174-bfea-547200ae531a",
   "metadata": {},
   "outputs": [
    {
     "name": "stdout",
     "output_type": "stream",
     "text": [
      "(1, 2, 3, 4, 78)\n"
     ]
    }
   ],
   "source": [
    "l = [1 , 2 , 3 , 4 , 78]\n",
    "\n",
    "def converter(l):\n",
    "    return tuple(l)\n",
    "\n",
    "print(converter(l))"
   ]
  },
  {
   "cell_type": "code",
   "execution_count": 37,
   "id": "68029026-6393-4a82-aae8-47402db7ff05",
   "metadata": {},
   "outputs": [],
   "source": [
    "# 5. conversion of tuple into list"
   ]
  },
  {
   "cell_type": "code",
   "execution_count": 46,
   "id": "10a2441a-c737-4697-b158-e6b23bed8bb4",
   "metadata": {},
   "outputs": [
    {
     "name": "stdout",
     "output_type": "stream",
     "text": [
      "[2, 3, 4, 'harsh', 'classic']\n"
     ]
    }
   ],
   "source": [
    "my_tuple = ( 2, 3, 4, \"harsh\", \"classic\")\n",
    "my_list = []\n",
    "\n",
    "for i in my_tuple:\n",
    "    my_list.append(i)\n",
    "    \n",
    "print(my_list)\n",
    "    "
   ]
  },
  {
   "cell_type": "code",
   "execution_count": 47,
   "id": "879f5663-1657-4d68-ab53-d1fbfdc61611",
   "metadata": {},
   "outputs": [],
   "source": [
    "# 6 . conversion of a decimal into binary number"
   ]
  },
  {
   "cell_type": "code",
   "execution_count": 12,
   "id": "4a4674f4-c9c1-4884-8d45-010c706bea2c",
   "metadata": {},
   "outputs": [
    {
     "name": "stdin",
     "output_type": "stream",
     "text": [
      "enter your number 36\n"
     ]
    },
    {
     "name": "stdout",
     "output_type": "stream",
     "text": [
      "100100"
     ]
    }
   ],
   "source": [
    "n = int(input(\"enter your number\"))\n",
    "        \n",
    "l = list()\n",
    "while n!=0:\n",
    "    r = n%2\n",
    "    l.append(r)\n",
    "    n = n//2\n",
    "    \n",
    "l.reverse()\n",
    "for ele in l:\n",
    "        print(ele, end='')\n",
    "        "
   ]
  },
  {
   "cell_type": "code",
   "execution_count": 13,
   "id": "1f877dc7-c5a1-4f9a-b3ae-24184e2654c4",
   "metadata": {},
   "outputs": [],
   "source": [
    "# convert non zero number into boolean"
   ]
  },
  {
   "cell_type": "code",
   "execution_count": 14,
   "id": "4a3067d3-9c8f-454b-828b-8647b6cc3bdd",
   "metadata": {},
   "outputs": [],
   "source": [
    "n = 65"
   ]
  },
  {
   "cell_type": "code",
   "execution_count": 17,
   "id": "135df60e-8e90-4522-b6ca-b7baf78b02d2",
   "metadata": {},
   "outputs": [
    {
     "data": {
      "text/plain": [
       "True"
      ]
     },
     "execution_count": 17,
     "metadata": {},
     "output_type": "execute_result"
    }
   ],
   "source": [
    "bool(n)"
   ]
  },
  {
   "cell_type": "code",
   "execution_count": null,
   "id": "c8bafce5-2758-4d1e-8609-6bd841a4370d",
   "metadata": {},
   "outputs": [],
   "source": []
  }
 ],
 "metadata": {
  "kernelspec": {
   "display_name": "Python 3 (ipykernel)",
   "language": "python",
   "name": "python3"
  },
  "language_info": {
   "codemirror_mode": {
    "name": "ipython",
    "version": 3
   },
   "file_extension": ".py",
   "mimetype": "text/x-python",
   "name": "python",
   "nbconvert_exporter": "python",
   "pygments_lexer": "ipython3",
   "version": "3.10.8"
  }
 },
 "nbformat": 4,
 "nbformat_minor": 5
}
